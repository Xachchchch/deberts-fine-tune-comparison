{
 "nbformat": 4,
 "nbformat_minor": 0,
 "metadata": {
  "colab": {
   "provenance": [],
   "gpuType": "T4"
  },
  "kernelspec": {
   "name": "python3",
   "display_name": "Python 3"
  },
  "language_info": {
   "name": "python"
  },
  "accelerator": "GPU"
 },
 "cells": [
  {
   "cell_type": "code",
   "source": [
    "import wandb\n"
   ],
   "metadata": {
    "id": "qBBp-OxDaC8v"
   },
   "execution_count": 1,
   "outputs": []
  },
  {
   "cell_type": "code",
   "source": [
    "wandb.login()"
   ],
   "metadata": {
    "colab": {
     "base_uri": "https://localhost:8080/",
     "height": 191
    },
    "id": "iDNRRM1_dXGm",
    "outputId": "ae317734-5ff3-4c9c-f610-43383680ee7a"
   },
   "execution_count": 2,
   "outputs": [
    {
     "output_type": "display_data",
     "data": {
      "text/plain": [
       "<IPython.core.display.Javascript object>"
      ],
      "application/javascript": [
       "\n",
       "        window._wandbApiKey = new Promise((resolve, reject) => {\n",
       "            function loadScript(url) {\n",
       "            return new Promise(function(resolve, reject) {\n",
       "                let newScript = document.createElement(\"script\");\n",
       "                newScript.onerror = reject;\n",
       "                newScript.onload = resolve;\n",
       "                document.body.appendChild(newScript);\n",
       "                newScript.src = url;\n",
       "            });\n",
       "            }\n",
       "            loadScript(\"https://cdn.jsdelivr.net/npm/postmate/build/postmate.min.js\").then(() => {\n",
       "            const iframe = document.createElement('iframe')\n",
       "            iframe.style.cssText = \"width:0;height:0;border:none\"\n",
       "            document.body.appendChild(iframe)\n",
       "            const handshake = new Postmate({\n",
       "                container: iframe,\n",
       "                url: 'https://wandb.ai/authorize'\n",
       "            });\n",
       "            const timeout = setTimeout(() => reject(\"Couldn't auto authenticate\"), 5000)\n",
       "            handshake.then(function(child) {\n",
       "                child.on('authorize', data => {\n",
       "                    clearTimeout(timeout)\n",
       "                    resolve(data)\n",
       "                });\n",
       "            });\n",
       "            })\n",
       "        });\n",
       "    "
      ]
     },
     "metadata": {}
    },
    {
     "output_type": "stream",
     "name": "stderr",
     "text": [
      "\u001b[34m\u001b[1mwandb\u001b[0m: Logging into wandb.ai. (Learn how to deploy a W&B server locally: https://wandb.me/wandb-server)\n",
      "\u001b[34m\u001b[1mwandb\u001b[0m: You can find your API key in your browser here: https://wandb.ai/authorize\n",
      "wandb: Paste an API key from your profile and hit enter:"
     ]
    },
    {
     "name": "stdout",
     "output_type": "stream",
     "text": [
      " ··········\n"
     ]
    },
    {
     "output_type": "stream",
     "name": "stderr",
     "text": [
      "\u001b[34m\u001b[1mwandb\u001b[0m: \u001b[33mWARNING\u001b[0m If you're specifying your api key in code, ensure this code is not shared publicly.\n",
      "\u001b[34m\u001b[1mwandb\u001b[0m: \u001b[33mWARNING\u001b[0m Consider setting the WANDB_API_KEY environment variable, or running `wandb login` from the command line.\n",
      "\u001b[34m\u001b[1mwandb\u001b[0m: No netrc file found, creating one.\n",
      "\u001b[34m\u001b[1mwandb\u001b[0m: Appending key for api.wandb.ai to your netrc file: /root/.netrc\n",
      "\u001b[34m\u001b[1mwandb\u001b[0m: Currently logged in as: \u001b[33mkhachblb06\u001b[0m (\u001b[33mkhachblb06-polytechnic-of-a\u001b[0m) to \u001b[32mhttps://api.wandb.ai\u001b[0m. Use \u001b[1m`wandb login --relogin`\u001b[0m to force relogin\n"
     ]
    },
    {
     "output_type": "execute_result",
     "data": {
      "text/plain": [
       "True"
      ]
     },
     "metadata": {},
     "execution_count": 2
    }
   ]
  },
  {
   "cell_type": "code",
   "source": [
    "!pip install --upgrade datasets fsspec\n"
   ],
   "metadata": {
    "colab": {
     "base_uri": "https://localhost:8080/"
    },
    "id": "f2kUSeY_Ev16",
    "outputId": "977f95c0-5464-4c0d-feca-1ab6d3faca0e",
    "collapsed": true
   },
   "execution_count": 3,
   "outputs": [
    {
     "output_type": "stream",
     "name": "stdout",
     "text": [
      "Requirement already satisfied: datasets in /usr/local/lib/python3.11/dist-packages (4.0.0)\n",
      "Requirement already satisfied: fsspec in /usr/local/lib/python3.11/dist-packages (2025.3.0)\n",
      "Collecting fsspec\n",
      "  Downloading fsspec-2025.7.0-py3-none-any.whl.metadata (12 kB)\n",
      "Requirement already satisfied: filelock in /usr/local/lib/python3.11/dist-packages (from datasets) (3.18.0)\n",
      "Requirement already satisfied: numpy>=1.17 in /usr/local/lib/python3.11/dist-packages (from datasets) (2.0.2)\n",
      "Requirement already satisfied: pyarrow>=15.0.0 in /usr/local/lib/python3.11/dist-packages (from datasets) (18.1.0)\n",
      "Requirement already satisfied: dill<0.3.9,>=0.3.0 in /usr/local/lib/python3.11/dist-packages (from datasets) (0.3.8)\n",
      "Requirement already satisfied: pandas in /usr/local/lib/python3.11/dist-packages (from datasets) (2.2.2)\n",
      "Requirement already satisfied: requests>=2.32.2 in /usr/local/lib/python3.11/dist-packages (from datasets) (2.32.3)\n",
      "Requirement already satisfied: tqdm>=4.66.3 in /usr/local/lib/python3.11/dist-packages (from datasets) (4.67.1)\n",
      "Requirement already satisfied: xxhash in /usr/local/lib/python3.11/dist-packages (from datasets) (3.5.0)\n",
      "Requirement already satisfied: multiprocess<0.70.17 in /usr/local/lib/python3.11/dist-packages (from datasets) (0.70.16)\n",
      "Requirement already satisfied: huggingface-hub>=0.24.0 in /usr/local/lib/python3.11/dist-packages (from datasets) (0.34.1)\n",
      "Requirement already satisfied: packaging in /usr/local/lib/python3.11/dist-packages (from datasets) (25.0)\n",
      "Requirement already satisfied: pyyaml>=5.1 in /usr/local/lib/python3.11/dist-packages (from datasets) (6.0.2)\n",
      "Requirement already satisfied: aiohttp!=4.0.0a0,!=4.0.0a1 in /usr/local/lib/python3.11/dist-packages (from fsspec[http]<=2025.3.0,>=2023.1.0->datasets) (3.12.14)\n",
      "Requirement already satisfied: typing-extensions>=3.7.4.3 in /usr/local/lib/python3.11/dist-packages (from huggingface-hub>=0.24.0->datasets) (4.14.1)\n",
      "Requirement already satisfied: hf-xet<2.0.0,>=1.1.3 in /usr/local/lib/python3.11/dist-packages (from huggingface-hub>=0.24.0->datasets) (1.1.5)\n",
      "Requirement already satisfied: charset-normalizer<4,>=2 in /usr/local/lib/python3.11/dist-packages (from requests>=2.32.2->datasets) (3.4.2)\n",
      "Requirement already satisfied: idna<4,>=2.5 in /usr/local/lib/python3.11/dist-packages (from requests>=2.32.2->datasets) (3.10)\n",
      "Requirement already satisfied: urllib3<3,>=1.21.1 in /usr/local/lib/python3.11/dist-packages (from requests>=2.32.2->datasets) (2.5.0)\n",
      "Requirement already satisfied: certifi>=2017.4.17 in /usr/local/lib/python3.11/dist-packages (from requests>=2.32.2->datasets) (2025.7.14)\n",
      "Requirement already satisfied: python-dateutil>=2.8.2 in /usr/local/lib/python3.11/dist-packages (from pandas->datasets) (2.9.0.post0)\n",
      "Requirement already satisfied: pytz>=2020.1 in /usr/local/lib/python3.11/dist-packages (from pandas->datasets) (2025.2)\n",
      "Requirement already satisfied: tzdata>=2022.7 in /usr/local/lib/python3.11/dist-packages (from pandas->datasets) (2025.2)\n",
      "Requirement already satisfied: aiohappyeyeballs>=2.5.0 in /usr/local/lib/python3.11/dist-packages (from aiohttp!=4.0.0a0,!=4.0.0a1->fsspec[http]<=2025.3.0,>=2023.1.0->datasets) (2.6.1)\n",
      "Requirement already satisfied: aiosignal>=1.4.0 in /usr/local/lib/python3.11/dist-packages (from aiohttp!=4.0.0a0,!=4.0.0a1->fsspec[http]<=2025.3.0,>=2023.1.0->datasets) (1.4.0)\n",
      "Requirement already satisfied: attrs>=17.3.0 in /usr/local/lib/python3.11/dist-packages (from aiohttp!=4.0.0a0,!=4.0.0a1->fsspec[http]<=2025.3.0,>=2023.1.0->datasets) (25.3.0)\n",
      "Requirement already satisfied: frozenlist>=1.1.1 in /usr/local/lib/python3.11/dist-packages (from aiohttp!=4.0.0a0,!=4.0.0a1->fsspec[http]<=2025.3.0,>=2023.1.0->datasets) (1.7.0)\n",
      "Requirement already satisfied: multidict<7.0,>=4.5 in /usr/local/lib/python3.11/dist-packages (from aiohttp!=4.0.0a0,!=4.0.0a1->fsspec[http]<=2025.3.0,>=2023.1.0->datasets) (6.6.3)\n",
      "Requirement already satisfied: propcache>=0.2.0 in /usr/local/lib/python3.11/dist-packages (from aiohttp!=4.0.0a0,!=4.0.0a1->fsspec[http]<=2025.3.0,>=2023.1.0->datasets) (0.3.2)\n",
      "Requirement already satisfied: yarl<2.0,>=1.17.0 in /usr/local/lib/python3.11/dist-packages (from aiohttp!=4.0.0a0,!=4.0.0a1->fsspec[http]<=2025.3.0,>=2023.1.0->datasets) (1.20.1)\n",
      "Requirement already satisfied: six>=1.5 in /usr/local/lib/python3.11/dist-packages (from python-dateutil>=2.8.2->pandas->datasets) (1.17.0)\n"
     ]
    }
   ]
  },
  {
   "cell_type": "code",
   "source": [
    "from peft import get_peft_model, LoraConfig, TaskType\n",
    "from transformers import AutoModelForSequenceClassification, AutoTokenizer, TrainingArguments, Trainer\n",
    "\n",
    "import datasets\n",
    "from datasets import load_dataset\n",
    "import torch\n",
    "import transformers\n",
    "from sklearn.metrics import accuracy_score, f1_score\n",
    "from transformers import AutoModel\n",
    "import pandas as pd\n",
    "import numpy as np\n",
    "\n"
   ],
   "metadata": {
    "id": "kOh2f1lfCnNO"
   },
   "execution_count": 4,
   "outputs": []
  },
  {
   "cell_type": "markdown",
   "source": [
    "## Loading and preprocessing  The IMDB Dataset"
   ],
   "metadata": {
    "id": "vgC6MLy9HTHv"
   }
  },
  {
   "cell_type": "code",
   "source": [
    "dataset = load_dataset(\"imdb\")"
   ],
   "metadata": {
    "collapsed": true,
    "id": "ha47Q3mEE4m9",
    "colab": {
     "base_uri": "https://localhost:8080/",
     "height": 365,
     "referenced_widgets": [
      "234362ed53f64f56a3d53e0296e9803e",
      "7ffbee20f35446b1a5175478539b5969",
      "f8b0dfbfb9ba42f0b0cec0942edb4dd2",
      "1a5b23529e13433f8c9a2d9b6f55aed4",
      "d7f6427d9bc847278f722187c693d540",
      "286fc770ff744dff9d10461a9a66841c",
      "a1f043be7be44aa4ac953a4e45ac33dc",
      "f01ac8bb2ea44168ac802ded06278ab9",
      "4ee1ed7e44254f0cb1fd9819785566e9",
      "ea8aeccf0561487387e47c47a62d3fa6",
      "2b93ef5ed75a478da91247cbda4a080d",
      "64bf743c78944b179716de0d9af5e7ff",
      "e001c4f2303a48e79b19ea127450fb5a",
      "6a456003a23c4f609cd83db0c3e5a974",
      "3fc7a3adac614608bb8a1414d44f560d",
      "aebc5be56b27409dbe2f64ae8f5a4334",
      "9fdd75a7190e4f8d863ef9c29a6120fd",
      "a9f2af2bc9c44958aec585a7962648c7",
      "8393a362fadf4cbfb67c81e73d96bd7d",
      "17ca04ed0d2b4f31acd29da6dd7970a5",
      "cd68d03f29434809b81a52417b1722a3",
      "56a5fd48aa7b4883b7213a1c75e0b19a",
      "8ef6f2f9e50c48a887f9ed388270ef85",
      "273bc4c9a6ed40e995abc8cb1bf8359b",
      "e17ed92fda96478986fef15384bdaa4f",
      "faf9305720f54f42a3c8fde8234a14fd",
      "2e0bb1f0799d46a9a1cd8ed25085cb97",
      "a9438f05c463407eb5ff5b083d90828f",
      "9abb4f283f2b4c1aa739eb0666c851d5",
      "25a6232654c745b1b4bff14089f9bb68",
      "a8cf35b3be6549f6b2738b3d63f98602",
      "6c168c6de4574f0ebe572a3cf4adb9c1",
      "3175f61e7fde4a4f8f77c63faa50461e",
      "7ad14a2be2ef4ef7bfb214bd8bbfe4c7",
      "21ebb0973881447b9f77a1055d3ad97a",
      "0bd3fe8ac4c542319992cb76f70302c1",
      "bac5184768544d77a09629b06207a5ef",
      "7d3730d3ed59415f908fd598a62f59c8",
      "1b705e645bba455d9b08fdb71d57784d",
      "06e440eaf1ba41cabbef4433a12034e1",
      "14535fe2747a4f5fb2573ff71183cb84",
      "f0dc848e6ad2475dabeb475ec0e1ee52",
      "1007eb8f767f4967a72bdb594eda07af",
      "3d8aa9b31150466f920ce2b927a63e4b",
      "c61aac8b4f03465eaea96b7b5a40c718",
      "70b96affc84e4445915f4d20e1669207",
      "2403efa1a800433686ea222bed821209",
      "9d3fc2c406474b1f923f4233852addd8",
      "0b6a320ab6364671908e114a0c2da7f6",
      "27276435e29b48da88a028c09b40fe6f",
      "da521b9105c946a4837e8446735f1d83",
      "be51c5926e4847868b39aa60f3e3e228",
      "833fd11ed7d84dfdb70e14609fddf6e2",
      "16b4b4c85c664cab9e455cff5f2b0472",
      "0a58001b9db44585b51b935233cf22b0",
      "03f1059f1df44849b49cd2a58759b247",
      "bde04a8dfd08453e9a8a8a607f486426",
      "1f0bb7b55f944937b8f8c5b37e617633",
      "5b77951c93da440193cc9674a563488e",
      "fc85c79451054c23b2bd54a654f1930a",
      "f7242b47a8a24c09a9080af51651669b",
      "80af9515ff8f4edb9d6723e1d99742a8",
      "034b2dcd01944e2daef241203f4a27a8",
      "92b7b5904bc94eeca91058e9ac9fbff2",
      "b5b79621251b4ba68fef32721e2725f5",
      "b7580f4dcc7348b0a127ce03cfb4cb36",
      "eddebf2e49a34c198462da35b513d5f6",
      "21f821f0c87840c5b77069a8f0b15eda",
      "81e2b12e980c4d50a04bfee0787a0ca4",
      "d70a7b51920e4a4787c7ce8f8b2453fc",
      "c33eb015f81c401ba9eb6f8f6590216f",
      "95d60d705c1d4da4b568165efe6dd1d7",
      "c8150bdb8ea7459e8b58db7d65be5098",
      "a29249a01c204761a3efe35d5422bdea",
      "a5f5ea52dd254655aa62148912374181",
      "f4ee051ce15d4d6983ffa17bda9ba6e7",
      "9ed744ef571e4cb0a54f0a02d454c5af"
     ]
    },
    "outputId": "2b882e99-51d0-4758-d666-53571c5b2ada"
   },
   "execution_count": 5,
   "outputs": [
    {
     "output_type": "stream",
     "name": "stderr",
     "text": [
      "/usr/local/lib/python3.11/dist-packages/huggingface_hub/utils/_auth.py:94: UserWarning: \n",
      "The secret `HF_TOKEN` does not exist in your Colab secrets.\n",
      "To authenticate with the Hugging Face Hub, create a token in your settings tab (https://huggingface.co/settings/tokens), set it as secret in your Google Colab and restart your session.\n",
      "You will be able to reuse this secret in all of your notebooks.\n",
      "Please note that authentication is recommended but still optional to access public models or datasets.\n",
      "  warnings.warn(\n"
     ]
    },
    {
     "output_type": "display_data",
     "data": {
      "text/plain": [
       "README.md: 0.00B [00:00, ?B/s]"
      ],
      "application/vnd.jupyter.widget-view+json": {
       "version_major": 2,
       "version_minor": 0,
       "model_id": "234362ed53f64f56a3d53e0296e9803e"
      }
     },
     "metadata": {}
    },
    {
     "output_type": "display_data",
     "data": {
      "text/plain": [
       "train-00000-of-00001.parquet:   0%|          | 0.00/21.0M [00:00<?, ?B/s]"
      ],
      "application/vnd.jupyter.widget-view+json": {
       "version_major": 2,
       "version_minor": 0,
       "model_id": "64bf743c78944b179716de0d9af5e7ff"
      }
     },
     "metadata": {}
    },
    {
     "output_type": "display_data",
     "data": {
      "text/plain": [
       "test-00000-of-00001.parquet:   0%|          | 0.00/20.5M [00:00<?, ?B/s]"
      ],
      "application/vnd.jupyter.widget-view+json": {
       "version_major": 2,
       "version_minor": 0,
       "model_id": "8ef6f2f9e50c48a887f9ed388270ef85"
      }
     },
     "metadata": {}
    },
    {
     "output_type": "display_data",
     "data": {
      "text/plain": [
       "unsupervised-00000-of-00001.parquet:   0%|          | 0.00/42.0M [00:00<?, ?B/s]"
      ],
      "application/vnd.jupyter.widget-view+json": {
       "version_major": 2,
       "version_minor": 0,
       "model_id": "7ad14a2be2ef4ef7bfb214bd8bbfe4c7"
      }
     },
     "metadata": {}
    },
    {
     "output_type": "display_data",
     "data": {
      "text/plain": [
       "Generating train split:   0%|          | 0/25000 [00:00<?, ? examples/s]"
      ],
      "application/vnd.jupyter.widget-view+json": {
       "version_major": 2,
       "version_minor": 0,
       "model_id": "c61aac8b4f03465eaea96b7b5a40c718"
      }
     },
     "metadata": {}
    },
    {
     "output_type": "display_data",
     "data": {
      "text/plain": [
       "Generating test split:   0%|          | 0/25000 [00:00<?, ? examples/s]"
      ],
      "application/vnd.jupyter.widget-view+json": {
       "version_major": 2,
       "version_minor": 0,
       "model_id": "03f1059f1df44849b49cd2a58759b247"
      }
     },
     "metadata": {}
    },
    {
     "output_type": "display_data",
     "data": {
      "text/plain": [
       "Generating unsupervised split:   0%|          | 0/50000 [00:00<?, ? examples/s]"
      ],
      "application/vnd.jupyter.widget-view+json": {
       "version_major": 2,
       "version_minor": 0,
       "model_id": "eddebf2e49a34c198462da35b513d5f6"
      }
     },
     "metadata": {}
    }
   ]
  },
  {
   "cell_type": "code",
   "source": [
    "dataset['train'][89]"
   ],
   "metadata": {
    "collapsed": true,
    "id": "9P4SWL2VPBNw",
    "colab": {
     "base_uri": "https://localhost:8080/"
    },
    "outputId": "3e5d71f0-bdbc-443e-9484-26f453ab0260"
   },
   "execution_count": 6,
   "outputs": [
    {
     "output_type": "execute_result",
     "data": {
      "text/plain": [
       "{'text': \"or anyone who was praying for the sight of Al Cliver wrestling a naked, 7ft tall black guy into a full nelson, your film has arrived! Film starlet Laura Crawford (Ursula Buchfellner) is kidnapped by a group who demand the ransom of $6 million to be delivered to their island hideaway. What they don't count on is rugged Vietnam vet Peter Weston (Cliver) being hired by a film producer to save the girl. And what they really didn't count on was a local tribe that likes to offer up young women to their monster cannibal god with bloodshot bug eyes.<br /><br />Pretty much the same filming set up as CANNIBALS, this one fares a bit better when it comes to entertainment value, thanks mostly a hilarious dub track and the impossibly goofy monster with the bulging eyes (Franco confirms they were split ping pong balls on the disc's interview). Franco gets a strong EuroCult supporting cast including Gisela Hahn (CONTAMINATION) and Werner Pochath (whose death is one of the most head-scratching things I ever seen as a guy who is totally not him is shown - in close up - trying to be him). The film features tons of nudity and the gore (Tempra paint variety) is there. The highlight for me was the world's slowly fistfight between Cliver and Antonio de Cabo in the splashing waves. Sadly, ol' Jess pads this one out to an astonishing (and, at times, agonizing) 1 hour and 40 minutes when it should have run 80 minutes tops. <br /><br />For the most part, the Severin DVD looks pretty nice but there are some odd ghosting images going on during some of the darker scenes. Also, one long section of dialog is in Spanish with no subs (they are an option, but only when you listen to the French track). Franco gives a nice 16- minute interview about the film and has much more pleasant things to say about Buchfellner than his CANNIBALS star Sabrina Siani.\",\n",
       " 'label': 0}"
      ]
     },
     "metadata": {},
     "execution_count": 6
    }
   ]
  },
  {
   "cell_type": "code",
   "source": [
    "tokenizer = AutoTokenizer.from_pretrained(\"microsoft/deberta-v3-small\")"
   ],
   "metadata": {
    "id": "_ebsPOF9hupK",
    "colab": {
     "base_uri": "https://localhost:8080/",
     "height": 168,
     "referenced_widgets": [
      "d964eb2365ea4a908866168cdc76322a",
      "279b8e4aa7e54223b41d13ffdb549a16",
      "b8594cd808bc4ea4a19853e189e98884",
      "ddba88d738984cc58599065d543d9606",
      "bf119897850c4434a0a73c086739dad7",
      "ec7a42a3fc9a44faaca570b2835e62f8",
      "267240b8cd8847e9b4dbc3d2474da7db",
      "b346020531b0495a90bcb329f75d4aaa",
      "153f34452a6144c585ee253dddeb4bd8",
      "a103c29362ba4b3881a47a1fe2e2dc58",
      "998fbaa340b74ea8bc6cf273e3a096eb",
      "446269fb0fe14dacbde19c8cdc12a657",
      "b54a31330ad24346b5c753e70ec95b9a",
      "09d789441c1c4eac9f6cdff1c8fdd63e",
      "657ab65a543e4839937df9d6fb5da6fb",
      "a70cb807f53a45dc9ca9bfb2214b9cd6",
      "7f267fbb9f7447c388fb683013c9bb84",
      "c404312ee7784eafafe16dfe6e1ab61d",
      "17b4628592314d1fb68b7f4bc71b3f0e",
      "a761901064d74185a5c318e43fc9b36f",
      "9cc0c14a0020451088305e95f0a8bf1d",
      "a78e257b3bf6417795ea9d5dd8c13043",
      "8c654a6e923e468d9f977689bebbc297",
      "4e9607dd373a4103ad31c6fc1b7064ce",
      "b56406603a13429780b412cac6174b4c",
      "ab77116014504a7caaa0dadb30b3f6a1",
      "ead50efbd0df4798856ee08f4366d7e2",
      "6733dc322c104a779fb1bcc8bd95bda1",
      "7f9ae45c902142cd9107cf2a16b43241",
      "0439a3862ec34ad8801da65062c0d4d1",
      "d396aefd16734fab9e7ea281a249ff67",
      "c475ac89e072490db8d78a60a7efcfe6",
      "6168e05642bc424296febb2cbed7437f"
     ]
    },
    "outputId": "ef527459-b2bb-4ee2-cdeb-0bed994b0d0e"
   },
   "execution_count": 7,
   "outputs": [
    {
     "output_type": "display_data",
     "data": {
      "text/plain": [
       "tokenizer_config.json:   0%|          | 0.00/52.0 [00:00<?, ?B/s]"
      ],
      "application/vnd.jupyter.widget-view+json": {
       "version_major": 2,
       "version_minor": 0,
       "model_id": "d964eb2365ea4a908866168cdc76322a"
      }
     },
     "metadata": {}
    },
    {
     "output_type": "display_data",
     "data": {
      "text/plain": [
       "config.json:   0%|          | 0.00/578 [00:00<?, ?B/s]"
      ],
      "application/vnd.jupyter.widget-view+json": {
       "version_major": 2,
       "version_minor": 0,
       "model_id": "446269fb0fe14dacbde19c8cdc12a657"
      }
     },
     "metadata": {}
    },
    {
     "output_type": "display_data",
     "data": {
      "text/plain": [
       "spm.model:   0%|          | 0.00/2.46M [00:00<?, ?B/s]"
      ],
      "application/vnd.jupyter.widget-view+json": {
       "version_major": 2,
       "version_minor": 0,
       "model_id": "8c654a6e923e468d9f977689bebbc297"
      }
     },
     "metadata": {}
    },
    {
     "output_type": "stream",
     "name": "stderr",
     "text": [
      "/usr/local/lib/python3.11/dist-packages/transformers/convert_slow_tokenizer.py:564: UserWarning: The sentencepiece tokenizer that you are converting to a fast tokenizer uses the byte fallback option which is not implemented in the fast tokenizers. In practice this means that the fast version of the tokenizer can produce unknown tokens whereas the sentencepiece version would have converted these unknown tokens into a sequence of byte tokens matching the original piece of text.\n",
      "  warnings.warn(\n"
     ]
    }
   ]
  },
  {
   "cell_type": "code",
   "source": [
    "def preprocess(example):\n",
    "  return tokenizer(example['text'], truncation = True, padding = 'max_length', max_length = 512,)"
   ],
   "metadata": {
    "id": "1w78_6EHPBK_"
   },
   "execution_count": 8,
   "outputs": []
  },
  {
   "cell_type": "code",
   "source": [
    "encoded_dataset = dataset.map(preprocess, batched = True)\n",
    "encoded_dataset = encoded_dataset.rename_column('label', 'labels')\n",
    "encoded_dataset.set_format(type = 'torch', columns = [\"input_ids\", \"attention_mask\", \"labels\"])"
   ],
   "metadata": {
    "collapsed": true,
    "id": "IcRflICXPBRS",
    "colab": {
     "base_uri": "https://localhost:8080/",
     "height": 113,
     "referenced_widgets": [
      "aae4a1f9ad854417a53511ae159092f3",
      "e8715a0e203c49fd9b2e9163de3c9ee2",
      "64c66a819817402bbc0a3e3324b9756b",
      "00d81b8421b645b292f54dffbc4a9bff",
      "0112826fd41747c1bf0fc1f050967312",
      "1ba6624b9bd44c3cbe4923b997541052",
      "d601b38d5af24e3480341b094217a901",
      "bd79dd8bfd3241fa85e7b31dd0641522",
      "808e3d581c1d4a23aa299ee4fd495aea",
      "a59ff359edec41438ee73e8394767205",
      "1b3e522ab5424f7994bb37102656d327",
      "ec9d0ceeb1354db5b2cca0cc9934bc0f",
      "12448e4b1b564dd58be59399b4c895b2",
      "66f4f1fa35cb47dcbcae7dd6c5b68f94",
      "819f5138b5a54ec5b7e4bf4ad945c061",
      "0a0beea2220e41c485e0470d63b120a0",
      "d84e6444056546bbbcd4df711cc710d1",
      "1a4c2d8cae754276a2df84a4eacf9094",
      "30485b8d7faa430a9e6d96513c2f7d0f",
      "597b846cd807464996b2a1fff3e2d244",
      "50564682f6594de2ac8209548d949482",
      "da6289088f4743e7bf3101dd256894b8",
      "e682587ca9cf40888ebb63c96bfe90b2",
      "df24dac074ce40a79db3f45576148e9c",
      "dc5c013af3d24182a77710ce24149c88",
      "10030587b5b94a4e906a42d5f83bd235",
      "0f843ab5def345199b0816c9af89c50e",
      "6cc1f23321ee46f19ac90501dca0c960",
      "a6cc466ee9654f7bbf289f59a7cad755",
      "f6591d4d18444db19cf50062efc1fa92",
      "8474944971864cc7b024277376d44589",
      "c494827cf6ad4254b91c194ca24f90ee",
      "2217e66e2fed4a28b953450d1c42f5c6"
     ]
    },
    "outputId": "38f650d3-9375-42f0-ea2b-93e6aed51b02"
   },
   "execution_count": 9,
   "outputs": [
    {
     "output_type": "display_data",
     "data": {
      "text/plain": [
       "Map:   0%|          | 0/25000 [00:00<?, ? examples/s]"
      ],
      "application/vnd.jupyter.widget-view+json": {
       "version_major": 2,
       "version_minor": 0,
       "model_id": "aae4a1f9ad854417a53511ae159092f3"
      }
     },
     "metadata": {}
    },
    {
     "output_type": "display_data",
     "data": {
      "text/plain": [
       "Map:   0%|          | 0/25000 [00:00<?, ? examples/s]"
      ],
      "application/vnd.jupyter.widget-view+json": {
       "version_major": 2,
       "version_minor": 0,
       "model_id": "ec9d0ceeb1354db5b2cca0cc9934bc0f"
      }
     },
     "metadata": {}
    },
    {
     "output_type": "display_data",
     "data": {
      "text/plain": [
       "Map:   0%|          | 0/50000 [00:00<?, ? examples/s]"
      ],
      "application/vnd.jupyter.widget-view+json": {
       "version_major": 2,
       "version_minor": 0,
       "model_id": "e682587ca9cf40888ebb63c96bfe90b2"
      }
     },
     "metadata": {}
    }
   ]
  },
  {
   "cell_type": "code",
   "source": [
    "encoded_dataset['train'][89]"
   ],
   "metadata": {
    "collapsed": true,
    "id": "QN_s3LJJPBcQ",
    "colab": {
     "base_uri": "https://localhost:8080/"
    },
    "outputId": "02898159-da82-4352-9666-8189f46264ec"
   },
   "execution_count": 10,
   "outputs": [
    {
     "output_type": "execute_result",
     "data": {
      "text/plain": [
       "{'labels': tensor(0),\n",
       " 'input_ids': tensor([     1,    289,   1012,    328,    284,  10481,    270,    262,   3941,\n",
       "            265,   2513,  27918,    834,  11876,    266,   8775,    261,    574,\n",
       "           5359,   4180,    937,   1863,    352,    266,    540, 115701,    261,\n",
       "            290,    933,    303,   2525,    300,   4569,  68192,   7186,  15763,\n",
       "            287,  34271,    268,   9328,  34576,  38701,   4437,    285,    269,\n",
       "          20664,    293,    266,    596,    328,   1935,    262,  27925,    265,\n",
       "            419,    765,    705,    264,    282,   2621,    264,    308,   2623,\n",
       "          59905,    260,    458,    306,    418,    280,    297,   2795,    277,\n",
       "            269,  12855,   5681,  10377,   2557,  23746,    287,    711,  56052,\n",
       "            285,    411,   5458,    293,    266,    933,   4834,    264,   1213,\n",
       "            262,   1651,    260,    414,    339,    306,    431,    590,    280,\n",
       "            297,   2795,    277,    284,    266,    588,  10966,    272,   5806,\n",
       "            264,    630,    322,    856,    694,    264,    308,   7817,  59382,\n",
       "           5973,    275,   1452,  11974,   5554,   1365,    260,   4052,   8981,\n",
       "            840,   1504,   4052,   8981,    840,   1504,  40270,    400,    262,\n",
       "            454,  11383,    487,    322,    283,   9650, 111333,  45606,    261,\n",
       "            291,    311,  19802,    266,    717,    493,    335,    278,    699,\n",
       "            264,   3280,    772,    261,   1644,   2215,    266,  10431,  29676,\n",
       "           1362,    263,    262,  46387,  30812,   7817,    275,    262,  47496,\n",
       "           1365,    287, 104020,  15145,    306,    332,   3671,  21934,  42793,\n",
       "           6108,    277,    262,   6713,    280,    268,   2109,    285,    260,\n",
       "          18813,   1486,    266,    986,   7303, 104041,   2853,   2648,    500,\n",
       "         121505,  36600,    287,  18638,  14504, 102030,    285,    263,  31127,\n",
       "            916,  54215,    474,    287,  35952,   1142,    269,    311,    265,\n",
       "            262,    370,    761,    271,  45402,    510,    479,    273,    632,\n",
       "            757,    283,    266,   1863,    328,    269,   2403,    298,    417,\n",
       "            269,   1569,    341,    267,    828,    322,    341,    833,    264,\n",
       "            282,    417,    285,    260,    279,    933,    830,   4795,    265,\n",
       "         106171,    263,    262,    424,    368,    287,  48199,   3608,   2586,\n",
       "           1261,    285,    269,    343,    260,    279,   4738,    270,    351,\n",
       "            284,    262,    447,    280,    268,   3328,  16662,  26453,    457,\n",
       "          27918,    834,    263,   7064,    718,  32479,    267,    262,  40220,\n",
       "           5357,    260,  10380,    261,  14995,    280,  19554,   9677,    291,\n",
       "            311,    321,    264,    299,  15585,    287,    715,    261,    288,\n",
       "            631,    261,  45164,    285,    376,   1476,    263,   1297,    768,\n",
       "            335,    278,    403,    286,    684,   2153,    768,  10703,    260,\n",
       "           2569,   8981,    840,   1504,   4052,   8981,    840,   1504,   5203,\n",
       "            262,    370,    465,    261,    262,  99752,   4865,   1127,    890,\n",
       "           1085,    304,    343,    281,    347,   5075,  99171,   1426,    446,\n",
       "            277,    482,    347,    265,    262,  10568,   4373,    260,   1184,\n",
       "            261,    311,    455,   1317,    265,  11303,    269,    267,   3366,\n",
       "            275,    363,  32201,    287,   6366,    281,    299,   1209,    261,\n",
       "            304,    364,    335,    274,   2579,    264,    262,   1796,   1362,\n",
       "            285,    260,  18813,   1360,    266,   1085,    922,    271,   2092,\n",
       "           2109,    314,    262,    933,    263,    303,    400,    310,   5380,\n",
       "            479,    264,    504,    314,  34576,  38701,   4437,    354,    315,\n",
       "           9650, 111333,  45606,   2041,  32798,    662,  51821,    260,      2,\n",
       "              0,      0,      0,      0,      0,      0,      0,      0,      0,\n",
       "              0,      0,      0,      0,      0,      0,      0,      0,      0,\n",
       "              0,      0,      0,      0,      0,      0,      0,      0,      0,\n",
       "              0,      0,      0,      0,      0,      0,      0,      0,      0,\n",
       "              0,      0,      0,      0,      0,      0,      0,      0,      0,\n",
       "              0,      0,      0,      0,      0,      0,      0,      0,      0,\n",
       "              0,      0,      0,      0,      0,      0,      0,      0,      0,\n",
       "              0,      0,      0,      0,      0,      0,      0,      0,      0,\n",
       "              0,      0,      0,      0,      0,      0,      0,      0,      0,\n",
       "              0,      0,      0,      0,      0,      0,      0,      0]),\n",
       " 'attention_mask': tensor([1, 1, 1, 1, 1, 1, 1, 1, 1, 1, 1, 1, 1, 1, 1, 1, 1, 1, 1, 1, 1, 1, 1, 1,\n",
       "         1, 1, 1, 1, 1, 1, 1, 1, 1, 1, 1, 1, 1, 1, 1, 1, 1, 1, 1, 1, 1, 1, 1, 1,\n",
       "         1, 1, 1, 1, 1, 1, 1, 1, 1, 1, 1, 1, 1, 1, 1, 1, 1, 1, 1, 1, 1, 1, 1, 1,\n",
       "         1, 1, 1, 1, 1, 1, 1, 1, 1, 1, 1, 1, 1, 1, 1, 1, 1, 1, 1, 1, 1, 1, 1, 1,\n",
       "         1, 1, 1, 1, 1, 1, 1, 1, 1, 1, 1, 1, 1, 1, 1, 1, 1, 1, 1, 1, 1, 1, 1, 1,\n",
       "         1, 1, 1, 1, 1, 1, 1, 1, 1, 1, 1, 1, 1, 1, 1, 1, 1, 1, 1, 1, 1, 1, 1, 1,\n",
       "         1, 1, 1, 1, 1, 1, 1, 1, 1, 1, 1, 1, 1, 1, 1, 1, 1, 1, 1, 1, 1, 1, 1, 1,\n",
       "         1, 1, 1, 1, 1, 1, 1, 1, 1, 1, 1, 1, 1, 1, 1, 1, 1, 1, 1, 1, 1, 1, 1, 1,\n",
       "         1, 1, 1, 1, 1, 1, 1, 1, 1, 1, 1, 1, 1, 1, 1, 1, 1, 1, 1, 1, 1, 1, 1, 1,\n",
       "         1, 1, 1, 1, 1, 1, 1, 1, 1, 1, 1, 1, 1, 1, 1, 1, 1, 1, 1, 1, 1, 1, 1, 1,\n",
       "         1, 1, 1, 1, 1, 1, 1, 1, 1, 1, 1, 1, 1, 1, 1, 1, 1, 1, 1, 1, 1, 1, 1, 1,\n",
       "         1, 1, 1, 1, 1, 1, 1, 1, 1, 1, 1, 1, 1, 1, 1, 1, 1, 1, 1, 1, 1, 1, 1, 1,\n",
       "         1, 1, 1, 1, 1, 1, 1, 1, 1, 1, 1, 1, 1, 1, 1, 1, 1, 1, 1, 1, 1, 1, 1, 1,\n",
       "         1, 1, 1, 1, 1, 1, 1, 1, 1, 1, 1, 1, 1, 1, 1, 1, 1, 1, 1, 1, 1, 1, 1, 1,\n",
       "         1, 1, 1, 1, 1, 1, 1, 1, 1, 1, 1, 1, 1, 1, 1, 1, 1, 1, 1, 1, 1, 1, 1, 1,\n",
       "         1, 1, 1, 1, 1, 1, 1, 1, 1, 1, 1, 1, 1, 1, 1, 1, 1, 1, 1, 1, 1, 1, 1, 1,\n",
       "         1, 1, 1, 1, 1, 1, 1, 1, 1, 1, 1, 1, 1, 1, 1, 1, 1, 1, 1, 1, 1, 1, 1, 1,\n",
       "         1, 1, 1, 1, 1, 1, 1, 1, 1, 1, 1, 1, 1, 1, 1, 0, 0, 0, 0, 0, 0, 0, 0, 0,\n",
       "         0, 0, 0, 0, 0, 0, 0, 0, 0, 0, 0, 0, 0, 0, 0, 0, 0, 0, 0, 0, 0, 0, 0, 0,\n",
       "         0, 0, 0, 0, 0, 0, 0, 0, 0, 0, 0, 0, 0, 0, 0, 0, 0, 0, 0, 0, 0, 0, 0, 0,\n",
       "         0, 0, 0, 0, 0, 0, 0, 0, 0, 0, 0, 0, 0, 0, 0, 0, 0, 0, 0, 0, 0, 0, 0, 0,\n",
       "         0, 0, 0, 0, 0, 0, 0, 0])}"
      ]
     },
     "metadata": {},
     "execution_count": 10
    }
   ]
  },
  {
   "cell_type": "markdown",
   "source": [
    "## Base Model"
   ],
   "metadata": {
    "id": "8-yzL5BcXImA"
   }
  },
  {
   "cell_type": "code",
   "source": [
    "base_model = AutoModel.from_pretrained(\"microsoft/deberta-v3-small\")\n"
   ],
   "metadata": {
    "collapsed": true,
    "id": "NZr3rzx7IEoA",
    "colab": {
     "base_uri": "https://localhost:8080/",
     "height": 49,
     "referenced_widgets": [
      "c2330e0ae7f8473c8424ee143539b91e",
      "622fe5c9862848e391edad8d6c3498dc",
      "0a119ed9263241b19d09c98487548bc7",
      "937c4fdfb817424b8dc07e6466e1bd22",
      "89111ed742874996a9fc3de2dd55be1c",
      "81e5393c665845389348dffdae37fa9b",
      "815b1ba182214f73bb541d7dfe499c48",
      "f4364ef8038148f6a4d994324d8b9e86",
      "f47301e09e4a4a0db66626aa7dbe73fa",
      "fb5bf322286c4c318f91f76287f2a23f",
      "42ebdae76a30437bb051ef302e8a2af1"
     ]
    },
    "outputId": "751a2082-32ec-4f3a-f5ac-bec6f9151152"
   },
   "execution_count": 11,
   "outputs": [
    {
     "output_type": "display_data",
     "data": {
      "text/plain": [
       "pytorch_model.bin:   0%|          | 0.00/286M [00:00<?, ?B/s]"
      ],
      "application/vnd.jupyter.widget-view+json": {
       "version_major": 2,
       "version_minor": 0,
       "model_id": "c2330e0ae7f8473c8424ee143539b91e"
      }
     },
     "metadata": {}
    }
   ]
  },
  {
   "cell_type": "markdown",
   "source": [
    "## Model with LoRA\n"
   ],
   "metadata": {
    "id": "qsTNo-5hXOSg"
   }
  },
  {
   "cell_type": "code",
   "source": [
    "peft_config = LoraConfig(\n",
    "    task_type = TaskType.SEQ_CLS,\n",
    "    inference_mode = False,\n",
    "    r = 8,\n",
    "    lora_alpha = 32,\n",
    "    lora_dropout=0.1,\n",
    "    bias=\"none\"\n",
    ")\n",
    "model = AutoModelForSequenceClassification.from_pretrained(\"microsoft/deberta-v3-small\", num_labels=2)\n",
    "model_lora = get_peft_model(model, peft_config)\n",
    "model_lora.print_trainable_parameters()"
   ],
   "metadata": {
    "id": "S4DKfJvPM8ad",
    "colab": {
     "base_uri": "https://localhost:8080/",
     "height": 121,
     "referenced_widgets": [
      "e9fbc53a7f684c3a89fdf7130589d67b",
      "691bc487ba804bb6bbf3c216158f2f82",
      "eff65acb150140da9be4b39c848c4b41",
      "01aa57d613404907933e024916dcc982",
      "b32328ab6fcb46e590aaa9d781b08d4b",
      "966f27e4e96f4c91ab049ea782ade01e",
      "85dba36063ba4f1c974df0d7c35bef9c",
      "aa17c3ae286340a6b9c4b2592795fbaf",
      "59d129b28b684f5f96fb717eb6ae4d8a",
      "2cc9efcb23934a17a28a0a9b0eca0e38",
      "e27c6d83f8d6404c9b210bfeebb3c9d8"
     ]
    },
    "outputId": "85ffec53-f211-4678-b35f-5c52829e9c2c"
   },
   "execution_count": 12,
   "outputs": [
    {
     "output_type": "display_data",
     "data": {
      "text/plain": [
       "model.safetensors:   0%|          | 0.00/286M [00:00<?, ?B/s]"
      ],
      "application/vnd.jupyter.widget-view+json": {
       "version_major": 2,
       "version_minor": 0,
       "model_id": "e9fbc53a7f684c3a89fdf7130589d67b"
      }
     },
     "metadata": {}
    },
    {
     "output_type": "stream",
     "name": "stderr",
     "text": [
      "Some weights of DebertaV2ForSequenceClassification were not initialized from the model checkpoint at microsoft/deberta-v3-small and are newly initialized: ['classifier.bias', 'classifier.weight', 'pooler.dense.bias', 'pooler.dense.weight']\n",
      "You should probably TRAIN this model on a down-stream task to be able to use it for predictions and inference.\n"
     ]
    },
    {
     "output_type": "stream",
     "name": "stdout",
     "text": [
      "trainable params: 148,994 || all params: 142,045,444 || trainable%: 0.1049\n"
     ]
    }
   ]
  },
  {
   "cell_type": "markdown",
   "source": [
    "## Model with only Head\n"
   ],
   "metadata": {
    "id": "0G1e2eXTagkU"
   }
  },
  {
   "cell_type": "code",
   "source": [
    "model_classifier = AutoModelForSequenceClassification.from_pretrained(\"microsoft/deberta-v3-small\", num_labels=2)\n",
    "for param in model_classifier.deberta.parameters():\n",
    "    param.requires_grad = False"
   ],
   "metadata": {
    "collapsed": true,
    "id": "EVweeCmrM8W7",
    "colab": {
     "base_uri": "https://localhost:8080/",
     "height": 72
    },
    "outputId": "0f30aeb1-f118-452f-ddd4-77c48c61e2f2"
   },
   "execution_count": 13,
   "outputs": [
    {
     "output_type": "stream",
     "name": "stderr",
     "text": [
      "Some weights of DebertaV2ForSequenceClassification were not initialized from the model checkpoint at microsoft/deberta-v3-small and are newly initialized: ['classifier.bias', 'classifier.weight', 'pooler.dense.bias', 'pooler.dense.weight']\n",
      "You should probably TRAIN this model on a down-stream task to be able to use it for predictions and inference.\n"
     ]
    }
   ]
  },
  {
   "cell_type": "markdown",
   "source": [
    "## Custom Trainer for computing Metrics and Loss"
   ],
   "metadata": {
    "id": "ZoAdOvCZa5d-"
   }
  },
  {
   "cell_type": "code",
   "source": [
    "class CustomTrainer(Trainer):\n",
    "    def compute_loss(self, model, inputs, return_outputs=False,num_items_in_batch=None):\n",
    "\n",
    "        outputs = model(**inputs)\n",
    "        loss = outputs.loss\n",
    "\n",
    "        if self.state.global_step % 10 == 0:\n",
    "            self.log({\"train/loss\": loss.item()})\n",
    "\n",
    "        return (loss, outputs) if return_outputs else loss\n",
    "\n",
    "def compute_metrics(eval_pred):\n",
    "    predictions, labels = eval_pred\n",
    "    preds = predictions.argmax(axis=1)\n",
    "\n",
    "    return {\n",
    "            \"eval_f1_weighted\": f1_score(labels, preds, average=\"weighted\"),\n",
    "            \"accuracy\": (preds == labels).mean(),\n",
    "        }"
   ],
   "metadata": {
    "id": "I0GrgC5mVbSf"
   },
   "execution_count": 14,
   "outputs": []
  },
  {
   "cell_type": "markdown",
   "source": [
    "# Training and Evaluating Model with only Head"
   ],
   "metadata": {
    "id": "Ndk_Pd63dJLk"
   }
  },
  {
   "cell_type": "code",
   "source": [
    "wandb.init(project=\"deberta-comparison\", name=\"deberta-classifier\")"
   ],
   "metadata": {
    "id": "gSAaJsBGdUH5",
    "colab": {
     "base_uri": "https://localhost:8080/",
     "height": 125
    },
    "outputId": "d521e7e2-6d8a-47c9-f379-ebf7ced66e07"
   },
   "execution_count": 15,
   "outputs": [
    {
     "output_type": "display_data",
     "data": {
      "text/plain": [
       "<IPython.core.display.HTML object>"
      ],
      "text/html": [
       "Tracking run with wandb version 0.21.0"
      ]
     },
     "metadata": {}
    },
    {
     "output_type": "display_data",
     "data": {
      "text/plain": [
       "<IPython.core.display.HTML object>"
      ],
      "text/html": [
       "Run data is saved locally in <code>/content/wandb/run-20250804_113039-rba87imq</code>"
      ]
     },
     "metadata": {}
    },
    {
     "output_type": "display_data",
     "data": {
      "text/plain": [
       "<IPython.core.display.HTML object>"
      ],
      "text/html": [
       "Syncing run <strong><a href='https://wandb.ai/khachblb06-polytechnic-of-a/deberta-comparison/runs/rba87imq' target=\"_blank\">deberta-classifier</a></strong> to <a href='https://wandb.ai/khachblb06-polytechnic-of-a/deberta-comparison' target=\"_blank\">Weights & Biases</a> (<a href='https://wandb.me/developer-guide' target=\"_blank\">docs</a>)<br>"
      ]
     },
     "metadata": {}
    },
    {
     "output_type": "display_data",
     "data": {
      "text/plain": [
       "<IPython.core.display.HTML object>"
      ],
      "text/html": [
       " View project at <a href='https://wandb.ai/khachblb06-polytechnic-of-a/deberta-comparison' target=\"_blank\">https://wandb.ai/khachblb06-polytechnic-of-a/deberta-comparison</a>"
      ]
     },
     "metadata": {}
    },
    {
     "output_type": "display_data",
     "data": {
      "text/plain": [
       "<IPython.core.display.HTML object>"
      ],
      "text/html": [
       " View run at <a href='https://wandb.ai/khachblb06-polytechnic-of-a/deberta-comparison/runs/rba87imq' target=\"_blank\">https://wandb.ai/khachblb06-polytechnic-of-a/deberta-comparison/runs/rba87imq</a>"
      ]
     },
     "metadata": {}
    },
    {
     "output_type": "execute_result",
     "data": {
      "text/html": [
       "<button onClick=\"this.nextSibling.style.display='block';this.style.display='none';\">Display W&B run</button><iframe src='https://wandb.ai/khachblb06-polytechnic-of-a/deberta-comparison/runs/rba87imq?jupyter=true' style='border:none;width:100%;height:420px;display:none;'></iframe>"
      ],
      "text/plain": [
       "<wandb.sdk.wandb_run.Run at 0x7a05b0f01b10>"
      ]
     },
     "metadata": {},
     "execution_count": 15
    }
   ]
  },
  {
   "cell_type": "code",
   "source": [
    "training_args_classifier = TrainingArguments(\n",
    "    output_dir=\"./outputs_classifier\",\n",
    "    eval_strategy=\"epoch\",\n",
    "    save_strategy=\"epoch\",\n",
    "    learning_rate=2e-5,\n",
    "    per_device_train_batch_size=16,\n",
    "    per_device_eval_batch_size=16,\n",
    "    num_train_epochs=3,\n",
    "    weight_decay=0.01,\n",
    "    logging_dir=\"./logs\",\n",
    "    logging_steps=10,\n",
    "    report_to=\"wandb\",\n",
    "    run_name=\"deberta-classifier-run\",\n",
    "    load_best_model_at_end=True,\n",
    "    metric_for_best_model=\"eval_f1_weighted\",\n",
    "    greater_is_better=True\n",
    ")\n"
   ],
   "metadata": {
    "id": "ZFHC7hnBYAHc"
   },
   "execution_count": 16,
   "outputs": []
  },
  {
   "cell_type": "code",
   "source": [
    "trainer_classifier = CustomTrainer(\n",
    "    model=model_classifier,\n",
    "    args=training_args_classifier,\n",
    "    train_dataset=encoded_dataset[\"train\"].shuffle(seed=42).select(range(5000)),\n",
    "    eval_dataset=encoded_dataset[\"test\"].shuffle(seed=42).select(range(1500)),\n",
    "    tokenizer=tokenizer,\n",
    "    compute_metrics=compute_metrics,\n",
    ")\n"
   ],
   "metadata": {
    "id": "oULKpMJkWlPk",
    "colab": {
     "base_uri": "https://localhost:8080/"
    },
    "outputId": "117481fa-3bef-4156-f039-73aad26adab2"
   },
   "execution_count": 17,
   "outputs": [
    {
     "output_type": "stream",
     "name": "stderr",
     "text": [
      "/tmp/ipython-input-820853687.py:1: FutureWarning: `tokenizer` is deprecated and will be removed in version 5.0.0 for `CustomTrainer.__init__`. Use `processing_class` instead.\n",
      "  trainer_classifier = CustomTrainer(\n"
     ]
    }
   ]
  },
  {
   "cell_type": "code",
   "source": [
    "trainer_classifier.train()"
   ],
   "metadata": {
    "id": "eRSgXRdgelKz",
    "colab": {
     "base_uri": "https://localhost:8080/",
     "height": 204
    },
    "outputId": "50bccc8b-eb1d-4eba-ebaf-61542d444e10"
   },
   "execution_count": 18,
   "outputs": [
    {
     "output_type": "display_data",
     "data": {
      "text/plain": [
       "<IPython.core.display.HTML object>"
      ],
      "text/html": [
       "\n",
       "    <div>\n",
       "      \n",
       "      <progress value='939' max='939' style='width:300px; height:20px; vertical-align: middle;'></progress>\n",
       "      [939/939 08:22, Epoch 3/3]\n",
       "    </div>\n",
       "    <table border=\"1\" class=\"dataframe\">\n",
       "  <thead>\n",
       " <tr style=\"text-align: left;\">\n",
       "      <th>Epoch</th>\n",
       "      <th>Training Loss</th>\n",
       "      <th>Validation Loss</th>\n",
       "      <th>F1 Weighted</th>\n",
       "      <th>Accuracy</th>\n",
       "    </tr>\n",
       "  </thead>\n",
       "  <tbody>\n",
       "    <tr>\n",
       "      <td>1</td>\n",
       "      <td>0.690500</td>\n",
       "      <td>0.691840</td>\n",
       "      <td>0.324483</td>\n",
       "      <td>0.492000</td>\n",
       "    </tr>\n",
       "    <tr>\n",
       "      <td>2</td>\n",
       "      <td>0.689100</td>\n",
       "      <td>0.690190</td>\n",
       "      <td>0.329765</td>\n",
       "      <td>0.493333</td>\n",
       "    </tr>\n",
       "    <tr>\n",
       "      <td>3</td>\n",
       "      <td>0.702700</td>\n",
       "      <td>0.689519</td>\n",
       "      <td>0.353480</td>\n",
       "      <td>0.503333</td>\n",
       "    </tr>\n",
       "  </tbody>\n",
       "</table><p>"
      ]
     },
     "metadata": {}
    },
    {
     "output_type": "execute_result",
     "data": {
      "text/plain": [
       "TrainOutput(global_step=939, training_loss=0.692962336717957, metrics={'train_runtime': 504.1498, 'train_samples_per_second': 29.753, 'train_steps_per_second': 1.863, 'total_flos': 1987081758720000.0, 'train_loss': 0.692962336717957, 'epoch': 3.0})"
      ]
     },
     "metadata": {},
     "execution_count": 18
    }
   ]
  },
  {
   "cell_type": "code",
   "source": [
    "trainer_classifier.evaluate()"
   ],
   "metadata": {
    "id": "6NoJygbGemC5",
    "colab": {
     "base_uri": "https://localhost:8080/",
     "height": 158
    },
    "outputId": "83b3a44c-9c6b-49da-ead4-3947e522a350"
   },
   "execution_count": 19,
   "outputs": [
    {
     "output_type": "display_data",
     "data": {
      "text/plain": [
       "<IPython.core.display.HTML object>"
      ],
      "text/html": [
       "\n",
       "    <div>\n",
       "      \n",
       "      <progress value='94' max='94' style='width:300px; height:20px; vertical-align: middle;'></progress>\n",
       "      [94/94 00:34]\n",
       "    </div>\n",
       "    "
      ]
     },
     "metadata": {}
    },
    {
     "output_type": "execute_result",
     "data": {
      "text/plain": [
       "{'eval_f1_weighted': 0.3534801803596744,\n",
       " 'eval_loss': 0.6895185708999634,\n",
       " 'eval_accuracy': 0.5033333333333333,\n",
       " 'eval_runtime': 34.4601,\n",
       " 'eval_samples_per_second': 43.529,\n",
       " 'eval_steps_per_second': 2.728,\n",
       " 'epoch': 3.0}"
      ]
     },
     "metadata": {},
     "execution_count": 19
    }
   ]
  },
  {
   "cell_type": "code",
   "source": [
    "wandb.finish()"
   ],
   "metadata": {
    "collapsed": true,
    "id": "DYv_jK-tXG5H",
    "colab": {
     "base_uri": "https://localhost:8080/",
     "height": 883
    },
    "outputId": "84a78429-11f3-4b5c-b5f0-4ebd1910b3f3"
   },
   "execution_count": 20,
   "outputs": [
    {
     "output_type": "display_data",
     "data": {
      "text/plain": [
       "<IPython.core.display.HTML object>"
      ],
      "text/html": []
     },
     "metadata": {}
    },
    {
     "output_type": "display_data",
     "data": {
      "text/plain": [
       "<IPython.core.display.HTML object>"
      ],
      "text/html": [
       "<br>    <style><br>        .wandb-row {<br>            display: flex;<br>            flex-direction: row;<br>            flex-wrap: wrap;<br>            justify-content: flex-start;<br>            width: 100%;<br>        }<br>        .wandb-col {<br>            display: flex;<br>            flex-direction: column;<br>            flex-basis: 100%;<br>            flex: 1;<br>            padding: 10px;<br>        }<br>    </style><br><div class=\"wandb-row\"><div class=\"wandb-col\"><h3>Run history:</h3><br/><table class=\"wandb\"><tr><td>eval/accuracy</td><td>▁▂██</td></tr><tr><td>eval/f1_weighted</td><td>▁▂██</td></tr><tr><td>eval/loss</td><td>█▃▁▁</td></tr><tr><td>eval/runtime</td><td>▁▃▃█</td></tr><tr><td>eval/samples_per_second</td><td>█▆▆▁</td></tr><tr><td>eval/steps_per_second</td><td>█▆▆▁</td></tr><tr><td>train/epoch</td><td>▁▁▁▁▁▂▂▂▃▃▃▃▃▃▃▃▃▄▄▄▅▅▅▅▅▆▆▆▆▆▆▇▇▇▇▇▇▇▇█</td></tr><tr><td>train/global_step</td><td>▁▁▁▂▂▃▃▃▃▃▄▄▄▄▄▄▅▅▅▅▅▅▆▆▆▆▆▆▆▆▇▇▇▇▇█████</td></tr><tr><td>train/grad_norm</td><td>▃▄▁▆▄▃▄▇▂▃▂▄▄▂▂█▂▃▁▃▄▃▂▁▁▂▁▃▂▂▁▄▁█▂▁▁▃▂▂</td></tr><tr><td>train/learning_rate</td><td>█████▇▇▇▇▇▆▆▆▆▆▆▆▆▅▅▅▅▅▅▅▄▄▄▃▃▃▃▂▂▂▂▂▂▂▁</td></tr><tr><td>train/loss</td><td>▁█▆▅▂▃▃▄▃▅▅▁▄▅▆▅▃▂▃▅▄▂▃▆▄▂▅▃▄▄▄▃▁▅▂▄▆▁▃▃</td></tr><tr><td>train/train/loss</td><td>▃▄▄█▃▁▂▃▅▅▃▂▄▆▅▃▃▄▂▃▂▄▃▂▄▃▅▄▄▂▃▄▁▂▃▂▄▂▅▄</td></tr></table><br/></div><div class=\"wandb-col\"><h3>Run summary:</h3><br/><table class=\"wandb\"><tr><td>eval/accuracy</td><td>0.50333</td></tr><tr><td>eval/f1_weighted</td><td>0.35348</td></tr><tr><td>eval/loss</td><td>0.68952</td></tr><tr><td>eval/runtime</td><td>34.4601</td></tr><tr><td>eval/samples_per_second</td><td>43.529</td></tr><tr><td>eval/steps_per_second</td><td>2.728</td></tr><tr><td>total_flos</td><td>1987081758720000.0</td></tr><tr><td>train/epoch</td><td>3</td></tr><tr><td>train/global_step</td><td>939</td></tr><tr><td>train/grad_norm</td><td>2.68294</td></tr><tr><td>train/learning_rate</td><td>0.0</td></tr><tr><td>train/loss</td><td>0.7027</td></tr><tr><td>train/train/loss</td><td>0.70179</td></tr><tr><td>train_loss</td><td>0.69296</td></tr><tr><td>train_runtime</td><td>504.1498</td></tr><tr><td>train_samples_per_second</td><td>29.753</td></tr><tr><td>train_steps_per_second</td><td>1.863</td></tr></table><br/></div></div>"
      ]
     },
     "metadata": {}
    },
    {
     "output_type": "display_data",
     "data": {
      "text/plain": [
       "<IPython.core.display.HTML object>"
      ],
      "text/html": [
       " View run <strong style=\"color:#cdcd00\">deberta-classifier</strong> at: <a href='https://wandb.ai/khachblb06-polytechnic-of-a/deberta-comparison/runs/rba87imq' target=\"_blank\">https://wandb.ai/khachblb06-polytechnic-of-a/deberta-comparison/runs/rba87imq</a><br> View project at: <a href='https://wandb.ai/khachblb06-polytechnic-of-a/deberta-comparison' target=\"_blank\">https://wandb.ai/khachblb06-polytechnic-of-a/deberta-comparison</a><br>Synced 5 W&B file(s), 0 media file(s), 0 artifact file(s) and 0 other file(s)"
      ]
     },
     "metadata": {}
    },
    {
     "output_type": "display_data",
     "data": {
      "text/plain": [
       "<IPython.core.display.HTML object>"
      ],
      "text/html": [
       "Find logs at: <code>./wandb/run-20250804_113039-rba87imq/logs</code>"
      ]
     },
     "metadata": {}
    }
   ]
  },
  {
   "cell_type": "markdown",
   "source": [
    "## Training and Evaluating Model with LoRA"
   ],
   "metadata": {
    "id": "k_Hyadw3dmpC"
   }
  },
  {
   "cell_type": "code",
   "source": [
    "wandb.init(project=\"deberta-comparison\", name=\"deberta-lora\")"
   ],
   "metadata": {
    "id": "YdaK2JPFZ4uf",
    "colab": {
     "base_uri": "https://localhost:8080/",
     "height": 125
    },
    "outputId": "d3efb23d-ebb3-4924-93e5-3a6c2b63a7a4"
   },
   "execution_count": 21,
   "outputs": [
    {
     "output_type": "display_data",
     "data": {
      "text/plain": [
       "<IPython.core.display.HTML object>"
      ],
      "text/html": [
       "Tracking run with wandb version 0.21.0"
      ]
     },
     "metadata": {}
    },
    {
     "output_type": "display_data",
     "data": {
      "text/plain": [
       "<IPython.core.display.HTML object>"
      ],
      "text/html": [
       "Run data is saved locally in <code>/content/wandb/run-20250804_113945-6gkoaxkj</code>"
      ]
     },
     "metadata": {}
    },
    {
     "output_type": "display_data",
     "data": {
      "text/plain": [
       "<IPython.core.display.HTML object>"
      ],
      "text/html": [
       "Syncing run <strong><a href='https://wandb.ai/khachblb06-polytechnic-of-a/deberta-comparison/runs/6gkoaxkj' target=\"_blank\">deberta-lora</a></strong> to <a href='https://wandb.ai/khachblb06-polytechnic-of-a/deberta-comparison' target=\"_blank\">Weights & Biases</a> (<a href='https://wandb.me/developer-guide' target=\"_blank\">docs</a>)<br>"
      ]
     },
     "metadata": {}
    },
    {
     "output_type": "display_data",
     "data": {
      "text/plain": [
       "<IPython.core.display.HTML object>"
      ],
      "text/html": [
       " View project at <a href='https://wandb.ai/khachblb06-polytechnic-of-a/deberta-comparison' target=\"_blank\">https://wandb.ai/khachblb06-polytechnic-of-a/deberta-comparison</a>"
      ]
     },
     "metadata": {}
    },
    {
     "output_type": "display_data",
     "data": {
      "text/plain": [
       "<IPython.core.display.HTML object>"
      ],
      "text/html": [
       " View run at <a href='https://wandb.ai/khachblb06-polytechnic-of-a/deberta-comparison/runs/6gkoaxkj' target=\"_blank\">https://wandb.ai/khachblb06-polytechnic-of-a/deberta-comparison/runs/6gkoaxkj</a>"
      ]
     },
     "metadata": {}
    },
    {
     "output_type": "execute_result",
     "data": {
      "text/html": [
       "<button onClick=\"this.nextSibling.style.display='block';this.style.display='none';\">Display W&B run</button><iframe src='https://wandb.ai/khachblb06-polytechnic-of-a/deberta-comparison/runs/6gkoaxkj?jupyter=true' style='border:none;width:100%;height:420px;display:none;'></iframe>"
      ],
      "text/plain": [
       "<wandb.sdk.wandb_run.Run at 0x7a05b2037290>"
      ]
     },
     "metadata": {},
     "execution_count": 21
    }
   ]
  },
  {
   "cell_type": "code",
   "source": [
    "training_args_lora = TrainingArguments(\n",
    "    output_dir=\"./outputs_lora\",\n",
    "    eval_strategy=\"epoch\",\n",
    "    save_strategy=\"epoch\",\n",
    "    learning_rate=2e-5,\n",
    "    per_device_train_batch_size=16,\n",
    "    per_device_eval_batch_size=16,\n",
    "    num_train_epochs=3,\n",
    "    weight_decay=0.01,\n",
    "    logging_dir=\"./logs\",\n",
    "    logging_steps=10,\n",
    "    report_to=\"wandb\",\n",
    "    run_name=\"deberta-lora-run\",\n",
    "    load_best_model_at_end=True,\n",
    "    metric_for_best_model=\"eval_f1_weighted\",\n",
    "    greater_is_better=True\n",
    ")\n"
   ],
   "metadata": {
    "id": "d9Mvr4IMPzU9"
   },
   "execution_count": 22,
   "outputs": []
  },
  {
   "cell_type": "code",
   "source": [
    "trainer_lora = CustomTrainer(\n",
    "    model=model_lora,\n",
    "    args=training_args_lora,\n",
    "    train_dataset=encoded_dataset[\"train\"].shuffle(seed=42).select(range(5000)),\n",
    "    eval_dataset=encoded_dataset[\"test\"].shuffle(seed=42).select(range(1500)),\n",
    "    tokenizer=tokenizer,\n",
    "    compute_metrics=compute_metrics\n",
    ")\n"
   ],
   "metadata": {
    "id": "S73OP3H4fWLa",
    "colab": {
     "base_uri": "https://localhost:8080/"
    },
    "outputId": "57c222d8-43e1-478d-99d1-d241b81794f7"
   },
   "execution_count": 23,
   "outputs": [
    {
     "output_type": "stream",
     "name": "stderr",
     "text": [
      "/tmp/ipython-input-21568634.py:1: FutureWarning: `tokenizer` is deprecated and will be removed in version 5.0.0 for `CustomTrainer.__init__`. Use `processing_class` instead.\n",
      "  trainer_lora = CustomTrainer(\n",
      "No label_names provided for model class `PeftModelForSequenceClassification`. Since `PeftModel` hides base models input arguments, if label_names is not given, label_names can't be set automatically within `Trainer`. Note that empty label_names list will be used instead.\n"
     ]
    }
   ]
  },
  {
   "cell_type": "code",
   "source": [
    "trainer_lora.train()"
   ],
   "metadata": {
    "id": "CxgBEo4HficB",
    "colab": {
     "base_uri": "https://localhost:8080/",
     "height": 204
    },
    "outputId": "edd9ca21-d498-4440-b049-25c359e59cf9"
   },
   "execution_count": 24,
   "outputs": [
    {
     "output_type": "display_data",
     "data": {
      "text/plain": [
       "<IPython.core.display.HTML object>"
      ],
      "text/html": [
       "\n",
       "    <div>\n",
       "      \n",
       "      <progress value='939' max='939' style='width:300px; height:20px; vertical-align: middle;'></progress>\n",
       "      [939/939 14:06, Epoch 3/3]\n",
       "    </div>\n",
       "    <table border=\"1\" class=\"dataframe\">\n",
       "  <thead>\n",
       " <tr style=\"text-align: left;\">\n",
       "      <th>Epoch</th>\n",
       "      <th>Training Loss</th>\n",
       "      <th>Validation Loss</th>\n",
       "      <th>F1 Weighted</th>\n",
       "      <th>Accuracy</th>\n",
       "    </tr>\n",
       "  </thead>\n",
       "  <tbody>\n",
       "    <tr>\n",
       "      <td>1</td>\n",
       "      <td>0.694200</td>\n",
       "      <td>0.692238</td>\n",
       "      <td>0.324483</td>\n",
       "      <td>0.492000</td>\n",
       "    </tr>\n",
       "    <tr>\n",
       "      <td>2</td>\n",
       "      <td>0.664400</td>\n",
       "      <td>0.658745</td>\n",
       "      <td>0.855966</td>\n",
       "      <td>0.856000</td>\n",
       "    </tr>\n",
       "    <tr>\n",
       "      <td>3</td>\n",
       "      <td>0.567200</td>\n",
       "      <td>0.562326</td>\n",
       "      <td>0.858651</td>\n",
       "      <td>0.858667</td>\n",
       "    </tr>\n",
       "  </tbody>\n",
       "</table><p>"
      ]
     },
     "metadata": {}
    },
    {
     "output_type": "execute_result",
     "data": {
      "text/plain": [
       "TrainOutput(global_step=939, training_loss=0.6635792826692136, metrics={'train_runtime': 847.756, 'train_samples_per_second': 17.694, 'train_steps_per_second': 1.108, 'total_flos': 1993947402240000.0, 'train_loss': 0.6635792826692136, 'epoch': 3.0})"
      ]
     },
     "metadata": {},
     "execution_count": 24
    }
   ]
  },
  {
   "cell_type": "code",
   "source": [
    "trainer_lora.evaluate()"
   ],
   "metadata": {
    "id": "aFsotyk3frDi",
    "colab": {
     "base_uri": "https://localhost:8080/",
     "height": 158
    },
    "outputId": "e04f1f3d-06e2-45df-f700-b171fa7d2a96"
   },
   "execution_count": 25,
   "outputs": [
    {
     "output_type": "display_data",
     "data": {
      "text/plain": [
       "<IPython.core.display.HTML object>"
      ],
      "text/html": [
       "\n",
       "    <div>\n",
       "      \n",
       "      <progress value='94' max='94' style='width:300px; height:20px; vertical-align: middle;'></progress>\n",
       "      [94/94 00:34]\n",
       "    </div>\n",
       "    "
      ]
     },
     "metadata": {}
    },
    {
     "output_type": "execute_result",
     "data": {
      "text/plain": [
       "{'eval_f1_weighted': 0.8586505787522855,\n",
       " 'eval_loss': 0.5623260736465454,\n",
       " 'eval_accuracy': 0.8586666666666667,\n",
       " 'eval_runtime': 35.133,\n",
       " 'eval_samples_per_second': 42.695,\n",
       " 'eval_steps_per_second': 2.676,\n",
       " 'epoch': 3.0}"
      ]
     },
     "metadata": {},
     "execution_count": 25
    }
   ]
  },
  {
   "cell_type": "code",
   "source": [
    "wandb.finish()"
   ],
   "metadata": {
    "id": "ZlMwFTq-frwf",
    "colab": {
     "base_uri": "https://localhost:8080/",
     "height": 883
    },
    "outputId": "64c4b72a-e08f-4888-db1c-96404dae1c96"
   },
   "execution_count": 26,
   "outputs": [
    {
     "output_type": "display_data",
     "data": {
      "text/plain": [
       "<IPython.core.display.HTML object>"
      ],
      "text/html": []
     },
     "metadata": {}
    },
    {
     "output_type": "display_data",
     "data": {
      "text/plain": [
       "<IPython.core.display.HTML object>"
      ],
      "text/html": [
       "<br>    <style><br>        .wandb-row {<br>            display: flex;<br>            flex-direction: row;<br>            flex-wrap: wrap;<br>            justify-content: flex-start;<br>            width: 100%;<br>        }<br>        .wandb-col {<br>            display: flex;<br>            flex-direction: column;<br>            flex-basis: 100%;<br>            flex: 1;<br>            padding: 10px;<br>        }<br>    </style><br><div class=\"wandb-row\"><div class=\"wandb-col\"><h3>Run history:</h3><br/><table class=\"wandb\"><tr><td>eval/accuracy</td><td>▁███</td></tr><tr><td>eval/f1_weighted</td><td>▁███</td></tr><tr><td>eval/loss</td><td>█▆▁▁</td></tr><tr><td>eval/runtime</td><td>▁█▅▅</td></tr><tr><td>eval/samples_per_second</td><td>█▁▄▄</td></tr><tr><td>eval/steps_per_second</td><td>█▁▅▅</td></tr><tr><td>train/epoch</td><td>▁▁▁▂▂▂▂▂▂▂▃▃▃▃▃▄▄▄▄▄▄▄▅▅▅▆▆▆▆▆▆▇▇▇▇▇████</td></tr><tr><td>train/global_step</td><td>▁▁▁▁▁▂▂▂▂▂▃▃▃▃▃▃▃▄▄▄▄▄▄▄▄▅▆▆▆▆▆▆▆▆▇▇████</td></tr><tr><td>train/grad_norm</td><td>▂▄▂▄▅▇▂▃▆▁▂▅▂▂▆▂▂▂▁▂▄▃▁▂▅▃▁▂▂▂▂▂▁▂█▂▃▃▂▄</td></tr><tr><td>train/learning_rate</td><td>█████▇▇▇▇▇▇▇▆▆▆▆▆▆▅▅▄▄▄▄▄▃▃▃▃▃▃▂▂▂▂▂▁▁▁▁</td></tr><tr><td>train/loss</td><td>█▇▇██▇█████▇▇▇█████▇█▇▆▇▆▅▄▄▃▃▃▃▃▂▃▂▂▁▂▁</td></tr><tr><td>train/train/loss</td><td>▇▆▇▆▆▆▆▆▇█▇▆▇▇▆▆▆▆▇▇▆▆▇▆▇▅▆▅▆▅▃▄▃▃▄▁▆▃▁▃</td></tr></table><br/></div><div class=\"wandb-col\"><h3>Run summary:</h3><br/><table class=\"wandb\"><tr><td>eval/accuracy</td><td>0.85867</td></tr><tr><td>eval/f1_weighted</td><td>0.85865</td></tr><tr><td>eval/loss</td><td>0.56233</td></tr><tr><td>eval/runtime</td><td>35.133</td></tr><tr><td>eval/samples_per_second</td><td>42.695</td></tr><tr><td>eval/steps_per_second</td><td>2.676</td></tr><tr><td>total_flos</td><td>1993947402240000.0</td></tr><tr><td>train/epoch</td><td>3</td></tr><tr><td>train/global_step</td><td>939</td></tr><tr><td>train/grad_norm</td><td>1.86099</td></tr><tr><td>train/learning_rate</td><td>0.0</td></tr><tr><td>train/loss</td><td>0.5672</td></tr><tr><td>train/train/loss</td><td>0.59662</td></tr><tr><td>train_loss</td><td>0.66358</td></tr><tr><td>train_runtime</td><td>847.756</td></tr><tr><td>train_samples_per_second</td><td>17.694</td></tr><tr><td>train_steps_per_second</td><td>1.108</td></tr></table><br/></div></div>"
      ]
     },
     "metadata": {}
    },
    {
     "output_type": "display_data",
     "data": {
      "text/plain": [
       "<IPython.core.display.HTML object>"
      ],
      "text/html": [
       " View run <strong style=\"color:#cdcd00\">deberta-lora</strong> at: <a href='https://wandb.ai/khachblb06-polytechnic-of-a/deberta-comparison/runs/6gkoaxkj' target=\"_blank\">https://wandb.ai/khachblb06-polytechnic-of-a/deberta-comparison/runs/6gkoaxkj</a><br> View project at: <a href='https://wandb.ai/khachblb06-polytechnic-of-a/deberta-comparison' target=\"_blank\">https://wandb.ai/khachblb06-polytechnic-of-a/deberta-comparison</a><br>Synced 5 W&B file(s), 0 media file(s), 0 artifact file(s) and 0 other file(s)"
      ]
     },
     "metadata": {}
    },
    {
     "output_type": "display_data",
     "data": {
      "text/plain": [
       "<IPython.core.display.HTML object>"
      ],
      "text/html": [
       "Find logs at: <code>./wandb/run-20250804_113945-6gkoaxkj/logs</code>"
      ]
     },
     "metadata": {}
    }
   ]
  }
 ]
}